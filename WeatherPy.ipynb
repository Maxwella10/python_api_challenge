{
 "cells": [
  {
   "cell_type": "markdown",
   "metadata": {},
   "source": [
    "# WeatherPy\n",
    "----\n",
    "\n",
    "#### Note\n",
    "* Instructions have been included for each segment. You do not have to follow them exactly, but they are included to help you think through the steps."
   ]
  },
  {
   "cell_type": "code",
   "execution_count": 1,
   "metadata": {
    "scrolled": true
   },
   "outputs": [],
   "source": [
    "# Dependencies and Setup\n",
    "import matplotlib.pyplot as plt\n",
    "import pandas as pd\n",
    "import numpy as np\n",
    "import requests\n",
    "import time\n",
    "from scipy.stats import linregress\n",
    "\n",
    "# Import API key\n",
    "from api_keys import weather_api_key\n",
    "\n",
    "# Incorporated citipy to determine city based on latitude and longitude\n",
    "from citipy import citipy\n",
    "\n",
    "# Output File (CSV)\n",
    "output_data_file = \"output_data/cities.csv\"\n",
    "\n",
    "# Range of latitudes and longitudes\n",
    "lat_range = (-90, 90)\n",
    "lng_range = (-180, 180)"
   ]
  },
  {
   "cell_type": "markdown",
   "metadata": {},
   "source": [
    "## Generate Cities List"
   ]
  },
  {
   "cell_type": "code",
   "execution_count": 2,
   "metadata": {},
   "outputs": [
    {
     "data": {
      "text/plain": [
       "603"
      ]
     },
     "execution_count": 2,
     "metadata": {},
     "output_type": "execute_result"
    }
   ],
   "source": [
    "# List for holding lat_lngs and cities\n",
    "lat_lngs = []\n",
    "cities = []\n",
    "\n",
    "# Create a set of random lat and lng combinations\n",
    "lats = np.random.uniform(lat_range[0], lat_range[1], size=1500)\n",
    "lngs = np.random.uniform(lng_range[0], lng_range[1], size=1500)\n",
    "lat_lngs = zip(lats, lngs)\n",
    "\n",
    "# Identify nearest city for each lat, lng combination\n",
    "for lat_lng in lat_lngs:\n",
    "    city = citipy.nearest_city(lat_lng[0], lat_lng[1]).city_name\n",
    "    \n",
    "    # If the city is unique, then add it to a our cities list\n",
    "    if city not in cities:\n",
    "        cities.append(city)\n",
    "\n",
    "# Print the city count to confirm sufficient count\n",
    "len(cities)"
   ]
  },
  {
   "cell_type": "markdown",
   "metadata": {},
   "source": [
    "### Perform API Calls\n",
    "* Perform a weather check on each city using a series of successive API calls.\n",
    "* Include a print log of each city as it'sbeing processed (with the city number and city name).\n"
   ]
  },
  {
   "cell_type": "code",
   "execution_count": 3,
   "metadata": {},
   "outputs": [
    {
     "data": {
      "text/plain": [
       "'http://api.openweathermap.org/data/2.5/weather?units=Imperial&APPID=f15c52f574cb8c970c3f2fee8962f38d'"
      ]
     },
     "execution_count": 3,
     "metadata": {},
     "output_type": "execute_result"
    }
   ],
   "source": [
    "url = \"http://api.openweathermap.org/data/2.5/weather?units=Imperial&APPID=\" + weather_api_key\n",
    "url "
   ]
  },
  {
   "cell_type": "code",
   "execution_count": 4,
   "metadata": {},
   "outputs": [
    {
     "name": "stdout",
     "output_type": "stream",
     "text": [
      "'coord' city not found. skipping mys shmidta\n",
      "'coord' city not found. skipping karauzyak\n",
      "'coord' city not found. skipping nizhneyansk\n",
      "'coord' city not found. skipping grand river south east\n",
      "'coord' city not found. skipping barentsburg\n",
      "'coord' city not found. skipping taolanaro\n",
      "'coord' city not found. skipping saleaula\n",
      "'coord' city not found. skipping belushya guba\n",
      "'coord' city not found. skipping meyungs\n",
      "'coord' city not found. skipping chom bung\n",
      "'coord' city not found. skipping jinchengjiang\n",
      "'coord' city not found. skipping tumannyy\n",
      "'coord' city not found. skipping sentyabrskiy\n",
      "'coord' city not found. skipping amderma\n",
      "'coord' city not found. skipping samalaeulu\n",
      "'coord' city not found. skipping himora\n",
      "'coord' city not found. skipping tsihombe\n",
      "'coord' city not found. skipping malwan\n",
      "'coord' city not found. skipping illoqqortoormiut\n",
      "'coord' city not found. skipping nguiu\n",
      "'coord' city not found. skipping wa\n",
      "'coord' city not found. skipping krasnoyarsk-45\n",
      "'coord' city not found. skipping vaitupu\n",
      "'coord' city not found. skipping uroteppa\n",
      "'coord' city not found. skipping kegayli\n",
      "'coord' city not found. skipping marcona\n",
      "'coord' city not found. skipping tawkar\n",
      "'coord' city not found. skipping haibowan\n",
      "'coord' city not found. skipping chagda\n",
      "'coord' city not found. skipping louisbourg\n",
      "'coord' city not found. skipping ijaki\n",
      "'coord' city not found. skipping palabuhanratu\n",
      "'coord' city not found. skipping umm durman\n",
      "'coord' city not found. skipping yuzhno-yeniseyskiy\n",
      "'coord' city not found. skipping sorvag\n",
      "'coord' city not found. skipping ust-kamchatsk\n",
      "'coord' city not found. skipping kazalinsk\n",
      "'coord' city not found. skipping kuche\n",
      "'coord' city not found. skipping tinjah\n",
      "'coord' city not found. skipping barawe\n",
      "'coord' city not found. skipping burica\n",
      "'coord' city not found. skipping linchuan\n",
      "'coord' of 603city not found. skipping ituni\n",
      "'coord' city not found. skipping macaboboni\n",
      "'coord' city not found. skipping attawapiskat\n",
      "'coord' city not found. skipping uzumlu\n",
      "'coord' city not found. skipping sinkat\n",
      "'coord' city not found. skipping scottsburgh\n",
      "'coord' city not found. skipping yanchukan\n",
      "'coord' city not found. skipping jaramana\n",
      "'coord' city not found. skipping tuggurt\n",
      "'coord' city not found. skipping bolungarvik\n",
      "'coord' city not found. skipping doctor pedro p. pena\n",
      "'coord' city not found. skipping hunza\n",
      "602 out of 603\r"
     ]
    }
   ],
   "source": [
    "city_data = []\n",
    "\n",
    "for   i, city in enumerate(cities):\n",
    "    city_url = url + \"&q=\" + city\n",
    "    print(f\"{i} out of {len(cities)}\",end=\"\\r\")\n",
    "    try:\n",
    "        city_weather = requests.get(city_url).json()\n",
    "        \n",
    "        \n",
    "        \n",
    "        city_latitude = city_weather[\"coord\"][\"lat\"]\n",
    "        city_longitude = city_weather[\"coord\"][\"lon\"]\n",
    "        max_temp = city_weather[\"main\"][\"temp_max\"]\n",
    "        cloudness= city_weather[\"clouds\"][\"all\"]\n",
    "        \n",
    "        humidity = city_weather[\"main\"][\"humidity\"]\n",
    "        \n",
    "        wind_speed = city_weather[\"wind\"][\"speed\"]\n",
    "        \n",
    "        country =  city_weather[\"sys\"][\"country\"]\n",
    "        date = city_weather[\"dt\"]\n",
    "        \n",
    "        data = {\n",
    "           \"city\": city,\n",
    "            \"latitude\": city_latitude,\n",
    "            \"longitude\": city_longitude,\n",
    "            \"Max_Temp\" : max_temp,\n",
    "            \"humidity\": humidity,\n",
    "            \"cloudness\": cloudness,\n",
    "            \"wind speed\" : wind_speed,\n",
    "            \"country\" : country,\n",
    "            \"Date\" : date\n",
    "        }\n",
    "        \n",
    "        city_data.append(data)\n",
    "    \n",
    "\n",
    "    \n",
    "    except Exception as e:\n",
    "        \n",
    "        print(e, f\"city not found. skipping {city}\")\n",
    "        "
   ]
  },
  {
   "cell_type": "code",
   "execution_count": 5,
   "metadata": {
    "scrolled": true
   },
   "outputs": [
    {
     "data": {
      "text/html": [
       "<div>\n",
       "<style scoped>\n",
       "    .dataframe tbody tr th:only-of-type {\n",
       "        vertical-align: middle;\n",
       "    }\n",
       "\n",
       "    .dataframe tbody tr th {\n",
       "        vertical-align: top;\n",
       "    }\n",
       "\n",
       "    .dataframe thead th {\n",
       "        text-align: right;\n",
       "    }\n",
       "</style>\n",
       "<table border=\"1\" class=\"dataframe\">\n",
       "  <thead>\n",
       "    <tr style=\"text-align: right;\">\n",
       "      <th></th>\n",
       "      <th>city</th>\n",
       "      <th>latitude</th>\n",
       "      <th>longitude</th>\n",
       "      <th>Max_Temp</th>\n",
       "      <th>humidity</th>\n",
       "      <th>cloudness</th>\n",
       "      <th>wind speed</th>\n",
       "      <th>country</th>\n",
       "      <th>Date</th>\n",
       "    </tr>\n",
       "  </thead>\n",
       "  <tbody>\n",
       "    <tr>\n",
       "      <th>0</th>\n",
       "      <td>punta arenas</td>\n",
       "      <td>-53.1500</td>\n",
       "      <td>-70.9167</td>\n",
       "      <td>41.11</td>\n",
       "      <td>81</td>\n",
       "      <td>40</td>\n",
       "      <td>20.71</td>\n",
       "      <td>CL</td>\n",
       "      <td>1659350685</td>\n",
       "    </tr>\n",
       "    <tr>\n",
       "      <th>1</th>\n",
       "      <td>iqaluit</td>\n",
       "      <td>63.7506</td>\n",
       "      <td>-68.5145</td>\n",
       "      <td>47.93</td>\n",
       "      <td>87</td>\n",
       "      <td>75</td>\n",
       "      <td>2.30</td>\n",
       "      <td>CA</td>\n",
       "      <td>1659350685</td>\n",
       "    </tr>\n",
       "    <tr>\n",
       "      <th>2</th>\n",
       "      <td>yablonovo</td>\n",
       "      <td>50.8523</td>\n",
       "      <td>37.3574</td>\n",
       "      <td>79.95</td>\n",
       "      <td>39</td>\n",
       "      <td>42</td>\n",
       "      <td>12.24</td>\n",
       "      <td>RU</td>\n",
       "      <td>1659350685</td>\n",
       "    </tr>\n",
       "    <tr>\n",
       "      <th>3</th>\n",
       "      <td>bitung</td>\n",
       "      <td>1.4451</td>\n",
       "      <td>125.1824</td>\n",
       "      <td>81.45</td>\n",
       "      <td>81</td>\n",
       "      <td>49</td>\n",
       "      <td>3.62</td>\n",
       "      <td>ID</td>\n",
       "      <td>1659350685</td>\n",
       "    </tr>\n",
       "    <tr>\n",
       "      <th>4</th>\n",
       "      <td>carutapera</td>\n",
       "      <td>-1.1950</td>\n",
       "      <td>-46.0200</td>\n",
       "      <td>77.40</td>\n",
       "      <td>92</td>\n",
       "      <td>63</td>\n",
       "      <td>6.64</td>\n",
       "      <td>BR</td>\n",
       "      <td>1659350685</td>\n",
       "    </tr>\n",
       "  </tbody>\n",
       "</table>\n",
       "</div>"
      ],
      "text/plain": [
       "           city  latitude  longitude  Max_Temp  humidity  cloudness  \\\n",
       "0  punta arenas  -53.1500   -70.9167     41.11        81         40   \n",
       "1       iqaluit   63.7506   -68.5145     47.93        87         75   \n",
       "2     yablonovo   50.8523    37.3574     79.95        39         42   \n",
       "3        bitung    1.4451   125.1824     81.45        81         49   \n",
       "4    carutapera   -1.1950   -46.0200     77.40        92         63   \n",
       "\n",
       "   wind speed country        Date  \n",
       "0       20.71      CL  1659350685  \n",
       "1        2.30      CA  1659350685  \n",
       "2       12.24      RU  1659350685  \n",
       "3        3.62      ID  1659350685  \n",
       "4        6.64      BR  1659350685  "
      ]
     },
     "execution_count": 5,
     "metadata": {},
     "output_type": "execute_result"
    }
   ],
   "source": [
    "city_df = pd.DataFrame(city_data)\n",
    "city_df.head()"
   ]
  },
  {
   "cell_type": "code",
   "execution_count": 6,
   "metadata": {},
   "outputs": [
    {
     "name": "stdout",
     "output_type": "stream",
     "text": [
      "<class 'pandas.core.frame.DataFrame'>\n",
      "RangeIndex: 549 entries, 0 to 548\n",
      "Data columns (total 9 columns):\n",
      " #   Column      Non-Null Count  Dtype  \n",
      "---  ------      --------------  -----  \n",
      " 0   city        549 non-null    object \n",
      " 1   latitude    549 non-null    float64\n",
      " 2   longitude   549 non-null    float64\n",
      " 3   Max_Temp    549 non-null    float64\n",
      " 4   humidity    549 non-null    int64  \n",
      " 5   cloudness   549 non-null    int64  \n",
      " 6   wind speed  549 non-null    float64\n",
      " 7   country     549 non-null    object \n",
      " 8   Date        549 non-null    int64  \n",
      "dtypes: float64(4), int64(3), object(2)\n",
      "memory usage: 38.7+ KB\n"
     ]
    }
   ],
   "source": [
    "city_df.info()"
   ]
  },
  {
   "cell_type": "code",
   "execution_count": 7,
   "metadata": {},
   "outputs": [
    {
     "data": {
      "text/plain": [
       "0"
      ]
     },
     "execution_count": 7,
     "metadata": {},
     "output_type": "execute_result"
    }
   ],
   "source": [
    "limit = 100\n",
    "column_name = 'humidity'\n",
    "\n",
    "count = (city_df['humidity'] > 100 ).sum()\n",
    "count"
   ]
  },
  {
   "cell_type": "markdown",
   "metadata": {},
   "source": [
    "### Convert Raw Data to DataFrame\n",
    "* Export the city data into a .csv.\n",
    "* Display the DataFrame"
   ]
  },
  {
   "cell_type": "code",
   "execution_count": 47,
   "metadata": {},
   "outputs": [
    {
     "data": {
      "text/html": [
       "<div>\n",
       "<style scoped>\n",
       "    .dataframe tbody tr th:only-of-type {\n",
       "        vertical-align: middle;\n",
       "    }\n",
       "\n",
       "    .dataframe tbody tr th {\n",
       "        vertical-align: top;\n",
       "    }\n",
       "\n",
       "    .dataframe thead th {\n",
       "        text-align: right;\n",
       "    }\n",
       "</style>\n",
       "<table border=\"1\" class=\"dataframe\">\n",
       "  <thead>\n",
       "    <tr style=\"text-align: right;\">\n",
       "      <th></th>\n",
       "      <th>city</th>\n",
       "      <th>latitude</th>\n",
       "      <th>longitude</th>\n",
       "      <th>Max_Temp</th>\n",
       "      <th>humidity</th>\n",
       "      <th>cloudness</th>\n",
       "      <th>wind speed</th>\n",
       "      <th>country</th>\n",
       "      <th>Date</th>\n",
       "    </tr>\n",
       "  </thead>\n",
       "  <tbody>\n",
       "    <tr>\n",
       "      <th>0</th>\n",
       "      <td>punta arenas</td>\n",
       "      <td>-53.1500</td>\n",
       "      <td>-70.9167</td>\n",
       "      <td>41.11</td>\n",
       "      <td>81</td>\n",
       "      <td>40</td>\n",
       "      <td>20.71</td>\n",
       "      <td>CL</td>\n",
       "      <td>1659350685</td>\n",
       "    </tr>\n",
       "    <tr>\n",
       "      <th>1</th>\n",
       "      <td>iqaluit</td>\n",
       "      <td>63.7506</td>\n",
       "      <td>-68.5145</td>\n",
       "      <td>47.93</td>\n",
       "      <td>87</td>\n",
       "      <td>75</td>\n",
       "      <td>2.30</td>\n",
       "      <td>CA</td>\n",
       "      <td>1659350685</td>\n",
       "    </tr>\n",
       "    <tr>\n",
       "      <th>2</th>\n",
       "      <td>yablonovo</td>\n",
       "      <td>50.8523</td>\n",
       "      <td>37.3574</td>\n",
       "      <td>79.95</td>\n",
       "      <td>39</td>\n",
       "      <td>42</td>\n",
       "      <td>12.24</td>\n",
       "      <td>RU</td>\n",
       "      <td>1659350685</td>\n",
       "    </tr>\n",
       "    <tr>\n",
       "      <th>3</th>\n",
       "      <td>bitung</td>\n",
       "      <td>1.4451</td>\n",
       "      <td>125.1824</td>\n",
       "      <td>81.45</td>\n",
       "      <td>81</td>\n",
       "      <td>49</td>\n",
       "      <td>3.62</td>\n",
       "      <td>ID</td>\n",
       "      <td>1659350685</td>\n",
       "    </tr>\n",
       "    <tr>\n",
       "      <th>4</th>\n",
       "      <td>carutapera</td>\n",
       "      <td>-1.1950</td>\n",
       "      <td>-46.0200</td>\n",
       "      <td>77.40</td>\n",
       "      <td>92</td>\n",
       "      <td>63</td>\n",
       "      <td>6.64</td>\n",
       "      <td>BR</td>\n",
       "      <td>1659350685</td>\n",
       "    </tr>\n",
       "  </tbody>\n",
       "</table>\n",
       "</div>"
      ],
      "text/plain": [
       "           city  latitude  longitude  Max_Temp  humidity  cloudness  \\\n",
       "0  punta arenas  -53.1500   -70.9167     41.11        81         40   \n",
       "1       iqaluit   63.7506   -68.5145     47.93        87         75   \n",
       "2     yablonovo   50.8523    37.3574     79.95        39         42   \n",
       "3        bitung    1.4451   125.1824     81.45        81         49   \n",
       "4    carutapera   -1.1950   -46.0200     77.40        92         63   \n",
       "\n",
       "   wind speed country        Date  \n",
       "0       20.71      CL  1659350685  \n",
       "1        2.30      CA  1659350685  \n",
       "2       12.24      RU  1659350685  \n",
       "3        3.62      ID  1659350685  \n",
       "4        6.64      BR  1659350685  "
      ]
     },
     "execution_count": 47,
     "metadata": {},
     "output_type": "execute_result"
    }
   ],
   "source": [
    "city_df = pd.DataFrame(city_data)\n",
    "city_df.head()"
   ]
  },
  {
   "cell_type": "code",
   "execution_count": 8,
   "metadata": {},
   "outputs": [
    {
     "data": {
      "text/html": [
       "<div>\n",
       "<style scoped>\n",
       "    .dataframe tbody tr th:only-of-type {\n",
       "        vertical-align: middle;\n",
       "    }\n",
       "\n",
       "    .dataframe tbody tr th {\n",
       "        vertical-align: top;\n",
       "    }\n",
       "\n",
       "    .dataframe thead th {\n",
       "        text-align: right;\n",
       "    }\n",
       "</style>\n",
       "<table border=\"1\" class=\"dataframe\">\n",
       "  <thead>\n",
       "    <tr style=\"text-align: right;\">\n",
       "      <th></th>\n",
       "      <th>latitude</th>\n",
       "      <th>longitude</th>\n",
       "      <th>Max_Temp</th>\n",
       "      <th>humidity</th>\n",
       "      <th>cloudness</th>\n",
       "      <th>wind speed</th>\n",
       "      <th>Date</th>\n",
       "    </tr>\n",
       "  </thead>\n",
       "  <tbody>\n",
       "    <tr>\n",
       "      <th>count</th>\n",
       "      <td>549.000000</td>\n",
       "      <td>549.000000</td>\n",
       "      <td>549.000000</td>\n",
       "      <td>549.000000</td>\n",
       "      <td>549.000000</td>\n",
       "      <td>549.000000</td>\n",
       "      <td>5.490000e+02</td>\n",
       "    </tr>\n",
       "    <tr>\n",
       "      <th>mean</th>\n",
       "      <td>20.105565</td>\n",
       "      <td>16.325288</td>\n",
       "      <td>70.370219</td>\n",
       "      <td>70.149362</td>\n",
       "      <td>56.335155</td>\n",
       "      <td>8.172313</td>\n",
       "      <td>1.659351e+09</td>\n",
       "    </tr>\n",
       "    <tr>\n",
       "      <th>std</th>\n",
       "      <td>34.037585</td>\n",
       "      <td>90.439100</td>\n",
       "      <td>14.639578</td>\n",
       "      <td>22.252194</td>\n",
       "      <td>39.840657</td>\n",
       "      <td>5.771164</td>\n",
       "      <td>4.906591e+01</td>\n",
       "    </tr>\n",
       "    <tr>\n",
       "      <th>min</th>\n",
       "      <td>-54.800000</td>\n",
       "      <td>-179.166700</td>\n",
       "      <td>30.240000</td>\n",
       "      <td>1.000000</td>\n",
       "      <td>0.000000</td>\n",
       "      <td>0.000000</td>\n",
       "      <td>1.659350e+09</td>\n",
       "    </tr>\n",
       "    <tr>\n",
       "      <th>25%</th>\n",
       "      <td>-8.257800</td>\n",
       "      <td>-59.516700</td>\n",
       "      <td>59.810000</td>\n",
       "      <td>56.000000</td>\n",
       "      <td>14.000000</td>\n",
       "      <td>3.890000</td>\n",
       "      <td>1.659351e+09</td>\n",
       "    </tr>\n",
       "    <tr>\n",
       "      <th>50%</th>\n",
       "      <td>22.338400</td>\n",
       "      <td>17.828600</td>\n",
       "      <td>73.450000</td>\n",
       "      <td>77.000000</td>\n",
       "      <td>69.000000</td>\n",
       "      <td>6.910000</td>\n",
       "      <td>1.659351e+09</td>\n",
       "    </tr>\n",
       "    <tr>\n",
       "      <th>75%</th>\n",
       "      <td>48.995700</td>\n",
       "      <td>96.150000</td>\n",
       "      <td>80.260000</td>\n",
       "      <td>87.000000</td>\n",
       "      <td>99.000000</td>\n",
       "      <td>11.010000</td>\n",
       "      <td>1.659351e+09</td>\n",
       "    </tr>\n",
       "    <tr>\n",
       "      <th>max</th>\n",
       "      <td>78.218600</td>\n",
       "      <td>179.316700</td>\n",
       "      <td>107.580000</td>\n",
       "      <td>100.000000</td>\n",
       "      <td>100.000000</td>\n",
       "      <td>33.490000</td>\n",
       "      <td>1.659351e+09</td>\n",
       "    </tr>\n",
       "  </tbody>\n",
       "</table>\n",
       "</div>"
      ],
      "text/plain": [
       "         latitude   longitude    Max_Temp    humidity   cloudness  wind speed  \\\n",
       "count  549.000000  549.000000  549.000000  549.000000  549.000000  549.000000   \n",
       "mean    20.105565   16.325288   70.370219   70.149362   56.335155    8.172313   \n",
       "std     34.037585   90.439100   14.639578   22.252194   39.840657    5.771164   \n",
       "min    -54.800000 -179.166700   30.240000    1.000000    0.000000    0.000000   \n",
       "25%     -8.257800  -59.516700   59.810000   56.000000   14.000000    3.890000   \n",
       "50%     22.338400   17.828600   73.450000   77.000000   69.000000    6.910000   \n",
       "75%     48.995700   96.150000   80.260000   87.000000   99.000000   11.010000   \n",
       "max     78.218600  179.316700  107.580000  100.000000  100.000000   33.490000   \n",
       "\n",
       "               Date  \n",
       "count  5.490000e+02  \n",
       "mean   1.659351e+09  \n",
       "std    4.906591e+01  \n",
       "min    1.659350e+09  \n",
       "25%    1.659351e+09  \n",
       "50%    1.659351e+09  \n",
       "75%    1.659351e+09  \n",
       "max    1.659351e+09  "
      ]
     },
     "execution_count": 8,
     "metadata": {},
     "output_type": "execute_result"
    }
   ],
   "source": [
    "city_df.describe()"
   ]
  },
  {
   "cell_type": "code",
   "execution_count": 61,
   "metadata": {},
   "outputs": [
    {
     "data": {
      "text/html": [
       "<div>\n",
       "<style scoped>\n",
       "    .dataframe tbody tr th:only-of-type {\n",
       "        vertical-align: middle;\n",
       "    }\n",
       "\n",
       "    .dataframe tbody tr th {\n",
       "        vertical-align: top;\n",
       "    }\n",
       "\n",
       "    .dataframe thead th {\n",
       "        text-align: right;\n",
       "    }\n",
       "</style>\n",
       "<table border=\"1\" class=\"dataframe\">\n",
       "  <thead>\n",
       "    <tr style=\"text-align: right;\">\n",
       "      <th></th>\n",
       "      <th>city</th>\n",
       "      <th>latitude</th>\n",
       "      <th>longitude</th>\n",
       "      <th>Max_Temp</th>\n",
       "      <th>humidity</th>\n",
       "      <th>cloudness</th>\n",
       "      <th>wind speed</th>\n",
       "      <th>country</th>\n",
       "      <th>Date</th>\n",
       "    </tr>\n",
       "  </thead>\n",
       "  <tbody>\n",
       "    <tr>\n",
       "      <th>0</th>\n",
       "      <td>punta arenas</td>\n",
       "      <td>-53.1500</td>\n",
       "      <td>-70.9167</td>\n",
       "      <td>41.11</td>\n",
       "      <td>81</td>\n",
       "      <td>40</td>\n",
       "      <td>20.71</td>\n",
       "      <td>CL</td>\n",
       "      <td>1659350685</td>\n",
       "    </tr>\n",
       "    <tr>\n",
       "      <th>1</th>\n",
       "      <td>iqaluit</td>\n",
       "      <td>63.7506</td>\n",
       "      <td>-68.5145</td>\n",
       "      <td>47.93</td>\n",
       "      <td>87</td>\n",
       "      <td>75</td>\n",
       "      <td>2.30</td>\n",
       "      <td>CA</td>\n",
       "      <td>1659350685</td>\n",
       "    </tr>\n",
       "    <tr>\n",
       "      <th>2</th>\n",
       "      <td>yablonovo</td>\n",
       "      <td>50.8523</td>\n",
       "      <td>37.3574</td>\n",
       "      <td>79.95</td>\n",
       "      <td>39</td>\n",
       "      <td>42</td>\n",
       "      <td>12.24</td>\n",
       "      <td>RU</td>\n",
       "      <td>1659350685</td>\n",
       "    </tr>\n",
       "    <tr>\n",
       "      <th>3</th>\n",
       "      <td>bitung</td>\n",
       "      <td>1.4451</td>\n",
       "      <td>125.1824</td>\n",
       "      <td>81.45</td>\n",
       "      <td>81</td>\n",
       "      <td>49</td>\n",
       "      <td>3.62</td>\n",
       "      <td>ID</td>\n",
       "      <td>1659350685</td>\n",
       "    </tr>\n",
       "    <tr>\n",
       "      <th>4</th>\n",
       "      <td>carutapera</td>\n",
       "      <td>-1.1950</td>\n",
       "      <td>-46.0200</td>\n",
       "      <td>77.40</td>\n",
       "      <td>92</td>\n",
       "      <td>63</td>\n",
       "      <td>6.64</td>\n",
       "      <td>BR</td>\n",
       "      <td>1659350685</td>\n",
       "    </tr>\n",
       "    <tr>\n",
       "      <th>...</th>\n",
       "      <td>...</td>\n",
       "      <td>...</td>\n",
       "      <td>...</td>\n",
       "      <td>...</td>\n",
       "      <td>...</td>\n",
       "      <td>...</td>\n",
       "      <td>...</td>\n",
       "      <td>...</td>\n",
       "      <td>...</td>\n",
       "    </tr>\n",
       "    <tr>\n",
       "      <th>544</th>\n",
       "      <td>port-cartier</td>\n",
       "      <td>50.0334</td>\n",
       "      <td>-66.8654</td>\n",
       "      <td>62.74</td>\n",
       "      <td>85</td>\n",
       "      <td>82</td>\n",
       "      <td>3.98</td>\n",
       "      <td>CA</td>\n",
       "      <td>1659350741</td>\n",
       "    </tr>\n",
       "    <tr>\n",
       "      <th>545</th>\n",
       "      <td>hof</td>\n",
       "      <td>50.3167</td>\n",
       "      <td>11.9167</td>\n",
       "      <td>73.45</td>\n",
       "      <td>68</td>\n",
       "      <td>75</td>\n",
       "      <td>9.22</td>\n",
       "      <td>DE</td>\n",
       "      <td>1659350706</td>\n",
       "    </tr>\n",
       "    <tr>\n",
       "      <th>546</th>\n",
       "      <td>marataizes</td>\n",
       "      <td>-21.0433</td>\n",
       "      <td>-40.8244</td>\n",
       "      <td>66.90</td>\n",
       "      <td>78</td>\n",
       "      <td>0</td>\n",
       "      <td>3.27</td>\n",
       "      <td>BR</td>\n",
       "      <td>1659350742</td>\n",
       "    </tr>\n",
       "    <tr>\n",
       "      <th>547</th>\n",
       "      <td>zuwarah</td>\n",
       "      <td>32.9312</td>\n",
       "      <td>12.0820</td>\n",
       "      <td>87.08</td>\n",
       "      <td>54</td>\n",
       "      <td>0</td>\n",
       "      <td>9.33</td>\n",
       "      <td>LY</td>\n",
       "      <td>1659350742</td>\n",
       "    </tr>\n",
       "    <tr>\n",
       "      <th>548</th>\n",
       "      <td>faya</td>\n",
       "      <td>18.3851</td>\n",
       "      <td>42.4509</td>\n",
       "      <td>75.31</td>\n",
       "      <td>60</td>\n",
       "      <td>76</td>\n",
       "      <td>10.47</td>\n",
       "      <td>SA</td>\n",
       "      <td>1659350742</td>\n",
       "    </tr>\n",
       "  </tbody>\n",
       "</table>\n",
       "<p>549 rows × 9 columns</p>\n",
       "</div>"
      ],
      "text/plain": [
       "             city  latitude  longitude  Max_Temp  humidity  cloudness  \\\n",
       "0    punta arenas  -53.1500   -70.9167     41.11        81         40   \n",
       "1         iqaluit   63.7506   -68.5145     47.93        87         75   \n",
       "2       yablonovo   50.8523    37.3574     79.95        39         42   \n",
       "3          bitung    1.4451   125.1824     81.45        81         49   \n",
       "4      carutapera   -1.1950   -46.0200     77.40        92         63   \n",
       "..            ...       ...        ...       ...       ...        ...   \n",
       "544  port-cartier   50.0334   -66.8654     62.74        85         82   \n",
       "545           hof   50.3167    11.9167     73.45        68         75   \n",
       "546    marataizes  -21.0433   -40.8244     66.90        78          0   \n",
       "547       zuwarah   32.9312    12.0820     87.08        54          0   \n",
       "548          faya   18.3851    42.4509     75.31        60         76   \n",
       "\n",
       "     wind speed country        Date  \n",
       "0         20.71      CL  1659350685  \n",
       "1          2.30      CA  1659350685  \n",
       "2         12.24      RU  1659350685  \n",
       "3          3.62      ID  1659350685  \n",
       "4          6.64      BR  1659350685  \n",
       "..          ...     ...         ...  \n",
       "544        3.98      CA  1659350741  \n",
       "545        9.22      DE  1659350706  \n",
       "546        3.27      BR  1659350742  \n",
       "547        9.33      LY  1659350742  \n",
       "548       10.47      SA  1659350742  \n",
       "\n",
       "[549 rows x 9 columns]"
      ]
     },
     "execution_count": 61,
     "metadata": {},
     "output_type": "execute_result"
    }
   ],
   "source": [
    "# Convert data strings to float\n",
    "pd.to_numeric(city_df[\"cloudness\"]).astype(float)\n",
    "pd.to_numeric(city_df[\"humidity\"]).astype(float)\n",
    "pd.to_numeric(city_df[\"latitude\"]).astype(float)\n",
    "pd.to_numeric(city_df[\"longitude\"]).astype(float)\n",
    "pd.to_numeric(city_df[\"Max_Temp\"]).astype(float)\n",
    "pd.to_numeric(city_df[\"wind speed\"]).astype(float)\n",
    "city_df\n"
   ]
  },
  {
   "cell_type": "code",
   "execution_count": 62,
   "metadata": {},
   "outputs": [],
   "source": [
    "#Export DataFrame to CSV File\n",
    "city_df.to_csv(\"city_df.csv\")\n"
   ]
  },
  {
   "cell_type": "markdown",
   "metadata": {},
   "source": [
    "## Inspect the data and remove the cities where the humidity > 100%.\n",
    "----\n",
    "Skip this step if there are no cities that have humidity > 100%. "
   ]
  },
  {
   "cell_type": "code",
   "execution_count": 48,
   "metadata": {},
   "outputs": [
    {
     "data": {
      "text/plain": [
       "0"
      ]
     },
     "execution_count": 48,
     "metadata": {},
     "output_type": "execute_result"
    }
   ],
   "source": [
    "#  Get the indices of cities that have humidity over 100%.\n",
    "limit = 100\n",
    "column_name = 'humidity'\n",
    "\n",
    "count = (city_df['humidity'] > 100 ).sum()\n",
    "count"
   ]
  },
  {
   "cell_type": "code",
   "execution_count": 49,
   "metadata": {},
   "outputs": [
    {
     "data": {
      "text/html": [
       "<div>\n",
       "<style scoped>\n",
       "    .dataframe tbody tr th:only-of-type {\n",
       "        vertical-align: middle;\n",
       "    }\n",
       "\n",
       "    .dataframe tbody tr th {\n",
       "        vertical-align: top;\n",
       "    }\n",
       "\n",
       "    .dataframe thead th {\n",
       "        text-align: right;\n",
       "    }\n",
       "</style>\n",
       "<table border=\"1\" class=\"dataframe\">\n",
       "  <thead>\n",
       "    <tr style=\"text-align: right;\">\n",
       "      <th></th>\n",
       "      <th>city</th>\n",
       "      <th>latitude</th>\n",
       "      <th>longitude</th>\n",
       "      <th>Max_Temp</th>\n",
       "      <th>humidity</th>\n",
       "      <th>cloudness</th>\n",
       "      <th>wind speed</th>\n",
       "      <th>country</th>\n",
       "      <th>Date</th>\n",
       "    </tr>\n",
       "  </thead>\n",
       "  <tbody>\n",
       "    <tr>\n",
       "      <th>0</th>\n",
       "      <td>punta arenas</td>\n",
       "      <td>-53.1500</td>\n",
       "      <td>-70.9167</td>\n",
       "      <td>41.11</td>\n",
       "      <td>81</td>\n",
       "      <td>40</td>\n",
       "      <td>20.71</td>\n",
       "      <td>CL</td>\n",
       "      <td>1659350685</td>\n",
       "    </tr>\n",
       "    <tr>\n",
       "      <th>1</th>\n",
       "      <td>iqaluit</td>\n",
       "      <td>63.7506</td>\n",
       "      <td>-68.5145</td>\n",
       "      <td>47.93</td>\n",
       "      <td>87</td>\n",
       "      <td>75</td>\n",
       "      <td>2.30</td>\n",
       "      <td>CA</td>\n",
       "      <td>1659350685</td>\n",
       "    </tr>\n",
       "    <tr>\n",
       "      <th>2</th>\n",
       "      <td>yablonovo</td>\n",
       "      <td>50.8523</td>\n",
       "      <td>37.3574</td>\n",
       "      <td>79.95</td>\n",
       "      <td>39</td>\n",
       "      <td>42</td>\n",
       "      <td>12.24</td>\n",
       "      <td>RU</td>\n",
       "      <td>1659350685</td>\n",
       "    </tr>\n",
       "    <tr>\n",
       "      <th>3</th>\n",
       "      <td>bitung</td>\n",
       "      <td>1.4451</td>\n",
       "      <td>125.1824</td>\n",
       "      <td>81.45</td>\n",
       "      <td>81</td>\n",
       "      <td>49</td>\n",
       "      <td>3.62</td>\n",
       "      <td>ID</td>\n",
       "      <td>1659350685</td>\n",
       "    </tr>\n",
       "    <tr>\n",
       "      <th>4</th>\n",
       "      <td>carutapera</td>\n",
       "      <td>-1.1950</td>\n",
       "      <td>-46.0200</td>\n",
       "      <td>77.40</td>\n",
       "      <td>92</td>\n",
       "      <td>63</td>\n",
       "      <td>6.64</td>\n",
       "      <td>BR</td>\n",
       "      <td>1659350685</td>\n",
       "    </tr>\n",
       "  </tbody>\n",
       "</table>\n",
       "</div>"
      ],
      "text/plain": [
       "           city  latitude  longitude  Max_Temp  humidity  cloudness  \\\n",
       "0  punta arenas  -53.1500   -70.9167     41.11        81         40   \n",
       "1       iqaluit   63.7506   -68.5145     47.93        87         75   \n",
       "2     yablonovo   50.8523    37.3574     79.95        39         42   \n",
       "3        bitung    1.4451   125.1824     81.45        81         49   \n",
       "4    carutapera   -1.1950   -46.0200     77.40        92         63   \n",
       "\n",
       "   wind speed country        Date  \n",
       "0       20.71      CL  1659350685  \n",
       "1        2.30      CA  1659350685  \n",
       "2       12.24      RU  1659350685  \n",
       "3        3.62      ID  1659350685  \n",
       "4        6.64      BR  1659350685  "
      ]
     },
     "execution_count": 49,
     "metadata": {},
     "output_type": "execute_result"
    }
   ],
   "source": [
    "# Make a new DataFrame equal to the city data to drop all humidity outliers by index.\n",
    "# Passing \"inplace=False\" will make a copy of the city_data DataFrame, which we call \"clean_city_data\".\n",
    "city_df.head()"
   ]
  },
  {
   "cell_type": "markdown",
   "metadata": {},
   "source": [
    "## Plotting the Data\n",
    "* Use proper labeling of the plots using plot titles (including date of analysis) and axes labels.\n",
    "* Save the plotted figures as .pngs."
   ]
  },
  {
   "cell_type": "markdown",
   "metadata": {},
   "source": [
    "## Latitude vs. Temperature Plot"
   ]
  },
  {
   "cell_type": "code",
   "execution_count": 54,
   "metadata": {
    "scrolled": true
   },
   "outputs": [
    {
     "name": "stdout",
     "output_type": "stream",
     "text": [
      "This plot shows that Temperature decreases as you move away from Equator\n"
     ]
    },
    {
     "data": {
      "image/png": "[encoded data removed]",
      "text/plain": [
       "<Figure size 432x288 with 1 Axes>"
      ]
     },
     "metadata": {
      "needs_background": "light"
     },
     "output_type": "display_data"
    }
   ],
   "source": [
    "print('This plot shows that Temperature decreases as you move away from Equator')\n",
    "\n",
    "x_values = city_df['latitude']\n",
    "y_values = city_df['Max_Temp']\n",
    "plt.scatter(x_values,y_values)\n",
    "plt.title('City Latitude vs Max Temperature')\n",
    "plt.xlabel('Latitude')\n",
    "plt.ylabel('Max_Temp')\n",
    "plt.grid()\n",
    "plt.show()\n",
    "\n"
   ]
  },
  {
   "cell_type": "markdown",
   "metadata": {},
   "source": [
    "## Latitude vs. Humidity Plot"
   ]
  },
  {
   "cell_type": "code",
   "execution_count": 55,
   "metadata": {},
   "outputs": [
    {
     "name": "stdout",
     "output_type": "stream",
     "text": [
      "This plot indicates that there is no real pattern that the association between Humidity and Latitude is following\n"
     ]
    },
    {
     "data": {
      "image/png": "[encoded data removed]",
      "text/plain": [
       "<Figure size 432x288 with 1 Axes>"
      ]
     },
     "metadata": {
      "needs_background": "light"
     },
     "output_type": "display_data"
    }
   ],
   "source": [
    "print('This plot indicates that there is no real pattern that the association between Humidity and Latitude is following')\n",
    "\n",
    "x_values = city_df['latitude']\n",
    "y_values = city_df['humidity']\n",
    "plt.scatter(x_values,y_values)\n",
    "plt.title('City Latitude vs Humility')\n",
    "plt.xlabel('Latitude')\n",
    "plt.ylabel('Humidity')\n",
    "plt.grid()\n",
    "plt.show()"
   ]
  },
  {
   "cell_type": "markdown",
   "metadata": {},
   "source": [
    "## Latitude vs. Cloudiness Plot"
   ]
  },
  {
   "cell_type": "code",
   "execution_count": 56,
   "metadata": {},
   "outputs": [
    {
     "name": "stdout",
     "output_type": "stream",
     "text": [
      "This plot indicates that there is no real pattern that can the relationship between Cloudiness and Latitude\n"
     ]
    },
    {
     "data": {
      "image/png": "[encoded data removed]",
      "text/plain": [
       "<Figure size 432x288 with 1 Axes>"
      ]
     },
     "metadata": {
      "needs_background": "light"
     },
     "output_type": "display_data"
    }
   ],
   "source": [
    "print('This plot indicates that there is no real pattern that can the relationship between Cloudiness and Latitude')\n",
    "\n",
    "x_values = city_df['latitude']\n",
    "y_values = city_df['cloudness']\n",
    "plt.scatter(x_values,y_values)\n",
    "plt.title('City Latitude vs Cloudness')\n",
    "plt.xlabel('Latitude')\n",
    "plt.ylabel('Cloudness')\n",
    "plt.grid()\n",
    "plt.show()"
   ]
  },
  {
   "cell_type": "markdown",
   "metadata": {},
   "source": [
    "## Latitude vs. Wind Speed Plot"
   ]
  },
  {
   "cell_type": "code",
   "execution_count": 57,
   "metadata": {},
   "outputs": [
    {
     "name": "stdout",
     "output_type": "stream",
     "text": [
      "This plot indicates that there is no real pattern that can the relationship between Wind Speed and Latitude\n"
     ]
    },
    {
     "data": {
      "image/png": "[encoded data removed]",
      "text/plain": [
       "<Figure size 432x288 with 1 Axes>"
      ]
     },
     "metadata": {
      "needs_background": "light"
     },
     "output_type": "display_data"
    }
   ],
   "source": [
    "print('This plot indicates that there is no real pattern that can the relationship between Wind Speed and Latitude')\n",
    "\n",
    "x_values = city_df['latitude']\n",
    "y_values = city_df['wind speed']\n",
    "plt.scatter(x_values,y_values)\n",
    "plt.title('City Latitude vs Wind Speed')\n",
    "plt.xlabel('Latitude')\n",
    "plt.ylabel('Wind speed')\n",
    "plt.grid()\n",
    "plt.show()"
   ]
  },
  {
   "cell_type": "markdown",
   "metadata": {},
   "source": [
    "## Linear Regression"
   ]
  },
  {
   "cell_type": "markdown",
   "metadata": {},
   "source": [
    "####  Northern Hemisphere - Max Temp vs. Latitude Linear Regression"
   ]
  },
  {
   "cell_type": "code",
   "execution_count": 13,
   "metadata": {},
   "outputs": [],
   "source": [
    "from scipy import stats"
   ]
  },
  {
   "cell_type": "code",
   "execution_count": 38,
   "metadata": {},
   "outputs": [],
   "source": [
    "# Create Northern and Southern Hemisphere DataFrames\n",
    "northern_city_df = city_df.loc[pd.to_numeric(city_df[\"latitude\"]).astype(float) >= 0, :]\n",
    "southern_city_df = city_df.loc[pd.to_numeric(city_df[\"latitude\"]).astype(float) < 0, :]\n"
   ]
  },
  {
   "cell_type": "code",
   "execution_count": 39,
   "metadata": {},
   "outputs": [
    {
     "name": "stdout",
     "output_type": "stream",
     "text": [
      "Regression line equation is: y = -0.45x + 90.89\n",
      "The r-squared is: -0.6432295499033303\n",
      "The regression displays a negative correlation.\n",
      "In the nothern hemisphere, as you move away from the equator the temperature decreases.\n"
     ]
    },
    {
     "data": {
      "image/png": "[encoded data removed]",
      "text/plain": [
       "<Figure size 432x288 with 1 Axes>"
      ]
     },
     "metadata": {
      "needs_background": "light"
     },
     "output_type": "display_data"
    }
   ],
   "source": [
    "x_values = pd.to_numeric(northern_city_df['latitude']).astype(float)\n",
    "y_values = pd.to_numeric(northern_city_df['Max_Temp']).astype(float)\n",
    "(slope, intercept, rvalue, pvalue, stderr) = linregress(x_values, y_values)\n",
    "regress_values = x_values * slope + intercept\n",
    "line_eq = \"y = \" + str(round(slope,2)) + \"x + \" + str(round(intercept,2))\n",
    "print(f\"Regression line equation is: {line_eq}\")\n",
    "plt.scatter(x_values,y_values)\n",
    "plt.plot(x_values,regress_values,\"r-\")\n",
    "plt.annotate(line_eq,(6,10),fontsize=15,color=\"red\")\n",
    "plt.xlabel('Latitude')\n",
    "plt.ylabel('Max Temperature (F)')\n",
    "plt.title('Northern Hemisphere - Max Temp vs. Latitude Linear Regression')\n",
    "print(f\"The r-squared is: {rvalue}\")\n",
    "print(\"The regression displays a negative correlation.\")\n",
    "print(\"In the nothern hemisphere, as you move away from the equator the temperature decreases.\")\n",
    "plt.show()"
   ]
  },
  {
   "cell_type": "markdown",
   "metadata": {},
   "source": [
    "####  Southern Hemisphere - Max Temp vs. Latitude Linear Regression"
   ]
  },
  {
   "cell_type": "code",
   "execution_count": 40,
   "metadata": {},
   "outputs": [
    {
     "name": "stdout",
     "output_type": "stream",
     "text": [
      "Regression line equation is: y = 0.82x + 82.22\n",
      "The r-squared is: 0.8258703609721205\n",
      "The regression displays a positive correlation.\n",
      "In the southern hemisphere, as you get closer to the equator the temperature increases.\n"
     ]
    },
    {
     "data": {
      "image/png": "[encoded data removed]",
      "text/plain": [
       "<Figure size 432x288 with 1 Axes>"
      ]
     },
     "metadata": {
      "needs_background": "light"
     },
     "output_type": "display_data"
    }
   ],
   "source": [
    "x_values = pd.to_numeric(southern_city_df['latitude']).astype(float)\n",
    "y_values = pd.to_numeric(southern_city_df['Max_Temp']).astype(float)\n",
    "(slope, intercept, rvalue, pvalue, stderr) = linregress(x_values, y_values)\n",
    "regress_values = x_values * slope + intercept\n",
    "line_eq = \"y = \" + str(round(slope,2)) + \"x + \" + str(round(intercept,2))\n",
    "print(f\"Regression line equation is: {line_eq}\")\n",
    "plt.scatter(x_values,y_values)\n",
    "plt.plot(x_values,regress_values,\"r-\")\n",
    "plt.annotate(line_eq,(6,10),fontsize=15,color=\"red\")\n",
    "plt.xlabel('Latitude')\n",
    "plt.ylabel('Max Temperature (F)')\n",
    "plt.title('Southern Hemisphere - Max Temp vs. Latitude Linear Regression')\n",
    "print(f\"The r-squared is: {rvalue}\")\n",
    "print(\"The regression displays a positive correlation.\")\n",
    "print(\"In the southern hemisphere, as you get closer to the equator the temperature increases.\")\n",
    "plt.show()"
   ]
  },
  {
   "cell_type": "markdown",
   "metadata": {},
   "source": [
    "####  Northern Hemisphere - Humidity (%) vs. Latitude Linear Regression"
   ]
  },
  {
   "cell_type": "code",
   "execution_count": 51,
   "metadata": {},
   "outputs": [
    {
     "name": "stdout",
     "output_type": "stream",
     "text": [
      "Regression line equation is: y = -0.03x + 70.44\n",
      "The r-squared is: -0.025623033658205317\n",
      "The regression does not display any form of a correlation between the data sets.\n"
     ]
    },
    {
     "data": {
      "image/png": "[encoded data removed]",
      "text/plain": [
       "<Figure size 432x288 with 1 Axes>"
      ]
     },
     "metadata": {
      "needs_background": "light"
     },
     "output_type": "display_data"
    }
   ],
   "source": [
    "x_values = pd.to_numeric(northern_city_df['latitude']).astype(float)\n",
    "y_values = pd.to_numeric(northern_city_df['humidity']).astype(float)\n",
    "(slope, intercept, rvalue, pvalue, stderr) = linregress(x_values, y_values)\n",
    "regress_values = x_values * slope + intercept\n",
    "line_eq = \"y = \" + str(round(slope,2)) + \"x + \" + str(round(intercept,2))\n",
    "print(f\"Regression line equation is: {line_eq}\")\n",
    "plt.scatter(x_values,y_values)\n",
    "plt.plot(x_values,regress_values,\"r-\")\n",
    "plt.annotate(line_eq,(6,10),fontsize=15,color=\"red\")\n",
    "plt.xlabel('Latitude')\n",
    "plt.ylabel('Humidity (%)')\n",
    "plt.title('Northern Hemisphere - Humidity (%) vs. Latitude Linear Regression')\n",
    "print(f\"The r-squared is: {rvalue}\")\n",
    "print(\"The regression does not display any form of a correlation between the data sets.\") \n",
    "plt.show()"
   ]
  },
  {
   "cell_type": "markdown",
   "metadata": {},
   "source": [
    "####  Southern Hemisphere - Humidity (%) vs. Latitude Linear Regression"
   ]
  },
  {
   "cell_type": "code",
   "execution_count": 42,
   "metadata": {},
   "outputs": [
    {
     "name": "stdout",
     "output_type": "stream",
     "text": [
      "Regression line equation is: y = -0.01x + 71.6\n",
      "The r-squared is: -0.008809180197308326\n",
      "The regression does not display much of a correlation between the data sets.\n"
     ]
    },
    {
     "data": {
      "image/png": "[encoded data removed]",
      "text/plain": [
       "<Figure size 432x288 with 1 Axes>"
      ]
     },
     "metadata": {
      "needs_background": "light"
     },
     "output_type": "display_data"
    }
   ],
   "source": [
    "x_values = pd.to_numeric(southern_city_df['latitude']).astype(float)\n",
    "y_values = pd.to_numeric(southern_city_df['humidity']).astype(float)\n",
    "(slope, intercept, rvalue, pvalue, stderr) = linregress(x_values, y_values)\n",
    "regress_values = x_values * slope + intercept\n",
    "line_eq = \"y = \" + str(round(slope,2)) + \"x + \" + str(round(intercept,2))\n",
    "print(f\"Regression line equation is: {line_eq}\")\n",
    "plt.scatter(x_values,y_values)\n",
    "plt.plot(x_values,regress_values,\"r-\")\n",
    "plt.annotate(line_eq,(6,10),fontsize=15,color=\"red\")\n",
    "plt.xlabel('Latitude')\n",
    "plt.ylabel('Humidity (%)')\n",
    "plt.title('Southern Hemisphere - Humidity (%) vs. Latitude Linear Regression')\n",
    "print(f\"The r-squared is: {rvalue}\")\n",
    "print(\"The regression does not display much of a correlation between the data sets.\")\n",
    "plt.show()"
   ]
  },
  {
   "cell_type": "markdown",
   "metadata": {},
   "source": [
    "####  Northern Hemisphere - Cloudiness (%) vs. Latitude Linear Regression"
   ]
  },
  {
   "cell_type": "code",
   "execution_count": 43,
   "metadata": {},
   "outputs": [
    {
     "name": "stdout",
     "output_type": "stream",
     "text": [
      "Regression line equation is: y = -0.14x + 65.6\n",
      "The r-squared is: -0.0728156769307934\n",
      "The regression does not display much of a correlation between the data sets.\n"
     ]
    },
    {
     "data": {
      "image/png": "[encoded data removed]",
      "text/plain": [
       "<Figure size 432x288 with 1 Axes>"
      ]
     },
     "metadata": {
      "needs_background": "light"
     },
     "output_type": "display_data"
    }
   ],
   "source": [
    "x_values = pd.to_numeric(northern_city_df['latitude']).astype(float)\n",
    "y_values = pd.to_numeric(northern_city_df['cloudness']).astype(float)\n",
    "(slope, intercept, rvalue, pvalue, stderr) = linregress(x_values, y_values)\n",
    "regress_values = x_values * slope + intercept\n",
    "line_eq = \"y = \" + str(round(slope,2)) + \"x + \" + str(round(intercept,2))\n",
    "print(f\"Regression line equation is: {line_eq}\")\n",
    "plt.scatter(x_values,y_values)\n",
    "plt.plot(x_values,regress_values,\"r-\")\n",
    "plt.annotate(line_eq,(6,10),fontsize=15,color=\"red\")\n",
    "plt.xlabel('Latitude')\n",
    "plt.ylabel('Cloudiness (%)')\n",
    "plt.title('Northern Hemisphere - Cloudiness (%) vs. Latitude Linear Regression')\n",
    "print(f\"The r-squared is: {rvalue}\")\n",
    "print(\"The regression does not display much of a correlation between the data sets.\")\n",
    "plt.show()"
   ]
  },
  {
   "cell_type": "markdown",
   "metadata": {},
   "source": [
    "####  Southern Hemisphere - Cloudiness (%) vs. Latitude Linear Regression"
   ]
  },
  {
   "cell_type": "code",
   "execution_count": 44,
   "metadata": {},
   "outputs": [
    {
     "name": "stdout",
     "output_type": "stream",
     "text": [
      "Regression line equation is: y = 0.28x + 54.68\n",
      "The r-squared is: 0.09948499231858335\n",
      "The regression does not display much of a correlation between the data sets.\n"
     ]
    },
    {
     "data": {
      "image/png": "[encoded data removed]",
      "text/plain": [
       "<Figure size 432x288 with 1 Axes>"
      ]
     },
     "metadata": {
      "needs_background": "light"
     },
     "output_type": "display_data"
    }
   ],
   "source": [
    "x_values = pd.to_numeric(southern_city_df['latitude']).astype(float)\n",
    "y_values = pd.to_numeric(southern_city_df['cloudness']).astype(float)\n",
    "(slope, intercept, rvalue, pvalue, stderr) = linregress(x_values, y_values)\n",
    "regress_values = x_values * slope + intercept\n",
    "line_eq = \"y = \" + str(round(slope,2)) + \"x + \" + str(round(intercept,2))\n",
    "print(f\"Regression line equation is: {line_eq}\")\n",
    "plt.scatter(x_values,y_values)\n",
    "plt.plot(x_values,regress_values,\"r-\")\n",
    "plt.annotate(line_eq,(6,10),fontsize=15,color=\"red\")\n",
    "plt.xlabel('Latitude')\n",
    "plt.ylabel('Cloudiness (%)')\n",
    "plt.title('Southern Hemisphere - Cloudiness (%) vs. Latitude Linear Regression')\n",
    "print(f\"The r-squared is: {rvalue}\")\n",
    "print(\"The regression does not display much of a correlation between the data sets.\")\n",
    "plt.show()"
   ]
  },
  {
   "cell_type": "markdown",
   "metadata": {},
   "source": [
    "####  Northern Hemisphere - Wind Speed (mph) vs. Latitude Linear Regression"
   ]
  },
  {
   "cell_type": "code",
   "execution_count": 45,
   "metadata": {},
   "outputs": [
    {
     "name": "stdout",
     "output_type": "stream",
     "text": [
      "Regression line equation is: y = -0.04x + 10.07\n",
      "The r-squared is: -0.15265115868495777\n",
      "The regression does not display much of a correlation between the data sets.\n"
     ]
    },
    {
     "data": {
      "image/png": "[encoded data removed]",
      "text/plain": [
       "<Figure size 432x288 with 1 Axes>"
      ]
     },
     "metadata": {
      "needs_background": "light"
     },
     "output_type": "display_data"
    }
   ],
   "source": [
    "x_values = pd.to_numeric(northern_city_df['latitude']).astype(float)\n",
    "y_values = pd.to_numeric(northern_city_df['wind speed']).astype(float)\n",
    "(slope, intercept, rvalue, pvalue, stderr) = linregress(x_values, y_values)\n",
    "regress_values = x_values * slope + intercept\n",
    "line_eq = \"y = \" + str(round(slope,2)) + \"x + \" + str(round(intercept,2))\n",
    "print(f\"Regression line equation is: {line_eq}\")\n",
    "plt.scatter(x_values,y_values)\n",
    "plt.plot(x_values,regress_values,\"r-\")\n",
    "plt.annotate(line_eq,(6,10),fontsize=15,color=\"red\")\n",
    "plt.xlabel('Latitude')\n",
    "plt.ylabel('Wind Speed (mph)')\n",
    "plt.title('Northern Hemisphere - Wind Speed (mph) vs. Latitude Linear Regression')\n",
    "print(f\"The r-squared is: {rvalue}\")\n",
    "print(\"The regression does not display much of a correlation between the data sets.\")\n",
    "plt.show()"
   ]
  },
  {
   "cell_type": "markdown",
   "metadata": {},
   "source": [
    "####  Southern Hemisphere - Wind Speed (mph) vs. Latitude Linear Regression"
   ]
  },
  {
   "cell_type": "code",
   "execution_count": 46,
   "metadata": {},
   "outputs": [
    {
     "name": "stdout",
     "output_type": "stream",
     "text": [
      "Regression line equation is: y = -0.02x + 7.24\n",
      "The r-squared is: -0.04882139406487782\n",
      "The regression does not display much of a correlation between the data sets.\n"
     ]
    },
    {
     "data": {
      "image/png": "[encoded data removed]",
      "text/plain": [
       "<Figure size 432x288 with 1 Axes>"
      ]
     },
     "metadata": {
      "needs_background": "light"
     },
     "output_type": "display_data"
    }
   ],
   "source": [
    "x_values = pd.to_numeric(southern_city_df['latitude']).astype(float)\n",
    "y_values = pd.to_numeric(southern_city_df['wind speed']).astype(float)\n",
    "(slope, intercept, rvalue, pvalue, stderr) = linregress(x_values, y_values)\n",
    "regress_values = x_values * slope + intercept\n",
    "line_eq = \"y = \" + str(round(slope,2)) + \"x + \" + str(round(intercept,2))\n",
    "print(f\"Regression line equation is: {line_eq}\")\n",
    "plt.scatter(x_values,y_values)\n",
    "plt.plot(x_values,regress_values,\"r-\")\n",
    "plt.annotate(line_eq,(6,10),fontsize=15,color=\"red\")\n",
    "plt.xlabel('Latitude')\n",
    "plt.ylabel('Wind Speed (mph)')\n",
    "plt.title('Southern Hemisphere - Wind Speed (mph) vs. Latitude Linear Regression')\n",
    "print(f\"The r-squared is: {rvalue}\")\n",
    "print(\"The regression does not display much of a correlation between the data sets.\")\n",
    "plt.show()"
   ]
  },
  {
   "cell_type": "code",
   "execution_count": null,
   "metadata": {},
   "outputs": [],
   "source": []
  }
 ],
 "metadata": {
  "anaconda-cloud": {},
  "kernel_info": {
   "name": "python3"
  },
  "kernelspec": {
   "display_name": "Python 3 (ipykernel)",
   "language": "python",
   "name": "python3"
  },
  "language_info": {
   "codemirror_mode": {
    "name": "ipython",
    "version": 3
   },
   "file_extension": ".py",
   "mimetype": "text/x-python",
   "name": "python",
   "nbconvert_exporter": "python",
   "pygments_lexer": "ipython3",
   "version": "3.9.12"
  },
  "latex_envs": {
   "LaTeX_envs_menu_present": true,
   "autoclose": false,
   "autocomplete": true,
   "bibliofile": "biblio.bib",
   "cite_by": "apalike",
   "current_citInitial": 1,
   "eqLabelWithNumbers": true,
   "eqNumInitial": 1,
   "hotkeys": {
    "equation": "Ctrl-E",
    "itemize": "Ctrl-I"
   },
   "labels_anchors": false,
   "latex_user_defs": false,
   "report_style_numbering": false,
   "user_envs_cfg": false
  },
  "nteract": {
   "version": "0.12.3"
  }
 },
 "nbformat": 4,
 "nbformat_minor": 2
}
